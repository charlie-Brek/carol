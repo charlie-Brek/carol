{
 "cells": [
  {
   "cell_type": "markdown",
   "metadata": {},
   "source": [
    "## Exercise 12: Identifying top countries\n",
    "\n",
    "Using your solution to **Exercise 9**, write a function that returns the top 3 countries by number of users"
   ]
  },
  {
   "cell_type": "code",
   "execution_count": 5,
   "metadata": {},
   "outputs": [
    {
     "data": {
      "text/plain": [
       "(Counter({'US': 3, 'CA': 1, 'IT': 2, 'FR': 1, 'UK': 1}), ['US', 'IT', 'CA'])"
      ]
     },
     "execution_count": 5,
     "metadata": {},
     "output_type": "execute_result"
    }
   ],
   "source": [
    "# exercise 12 -----------------------------------# the algortitm picked the top two and then went by alaphabetical order\n",
    "import collections\n",
    "from heapq import nlargest\n",
    "def countries(x):\n",
    "    for country in (x):\n",
    "        country =[country[-2:] for country in x]\n",
    "        count = (collections.Counter(country))\n",
    "        threeHighest = nlargest(3,count, key = count.get)\n",
    "        return(count,threeHighest)\n",
    "countries([\"gyhwefy7832ryyg-US\", \"iu7ytf87gyuwef-CA\", \"98yfyg82t3r-US\",\n",
    "    \"iuhsdf897y3righsfe-US\", \"iushdf98h23ryg-IT\", \"iuhdf9h32ryu9gf-IT\",\n",
    "    \"IUufgh98y34-FR\", \"98yfdiuhdfbviuh8-UK\"])\n"
   ]
  },
  {
   "cell_type": "markdown",
   "metadata": {},
   "source": [
    "## Exercise 13: Century\n",
    "\n",
    "Write a function that takes a year and returns its corresponding century.\n",
    "\n",
    "### Examples\n",
    "\n",
    "```\n",
    "century_from_year(2005) ➞ 21\n",
    "\n",
    "century_from_year(1850) ➞ 19\n",
    "\n",
    "century_from_year(-332) ➞ -4\n",
    "\n",
    "century_from_year(55) ➞ 1\n",
    "\n",
    "century_from_year(-65) ➞ -1\n",
    "```"
   ]
  },
  {
   "cell_type": "code",
   "execution_count": 10,
   "metadata": {},
   "outputs": [
    {
     "name": "stdout",
     "output_type": "stream",
     "text": [
      "-4\n",
      "21\n"
     ]
    }
   ],
   "source": [
    "# exercise 13\n",
    "def century(year):\n",
    "    if year >=0: \n",
    "        century = int((year/100)+1) \n",
    "    if year <0:\n",
    "        century = int((year/100)-1)\n",
    "    return century\n",
    "print(century(-365))\n",
    "print(century(2050))"
   ]
  },
  {
   "cell_type": "markdown",
   "metadata": {},
   "source": [
    "## Exercise 14: Factorial\n",
    "\n",
    "Write a function that computes the factorial of a given number. In math the factorial of a non negative integer number is the product of itself with all integers less than itself starting from 1. \n",
    "\n",
    "Ex. \n",
    "\n",
    "$$4! = 4*3*2*1$$\n",
    "$$4! = 24$$\n",
    "\n",
    "\n",
    "```\n",
    "factorial(4) --> 24\n",
    "```"
   ]
  },
  {
   "cell_type": "code",
   "execution_count": 19,
   "metadata": {},
   "outputs": [
    {
     "name": "stdout",
     "output_type": "stream",
     "text": [
      "24\n",
      "120\n"
     ]
    }
   ],
   "source": [
    "# exercise 14\n",
    "def factorial(x):\n",
    "    return 1 if (x==1 or x==0) else x*factorial(x-1)\n",
    "print(factorial(4))\n",
    "print(factorial(5))"
   ]
  },
  {
   "cell_type": "markdown",
   "metadata": {},
   "source": [
    "## Exercise 15: Combinatrics\n",
    "\n",
    "The binomial coefficient is an important function in combinatrics. The function is written as:\n",
    "\n",
    "$$ \\binom{n}{k} = \\frac{n!}{k!(n-k)!}  $$\n",
    "\n",
    "Define a function for the binomial coefficient in Python, making sure that n is greater than or equal to k. \n",
    "\n",
    "**Hint:** Use the factorial function that you defined in the previous exercise.\n",
    "\n",
    "```\n",
    "NChooseK(5,2) = 10\n",
    "```"
   ]
  },
  {
   "cell_type": "code",
   "execution_count": 23,
   "metadata": {},
   "outputs": [
    {
     "name": "stdout",
     "output_type": "stream",
     "text": [
      "10\n",
      "184756\n"
     ]
    }
   ],
   "source": [
    "# exercise 15\n",
    "from math import factorial as fact\n",
    "def binomial(a,b):\n",
    "    return fact(a)//fact(b)//fact(a-b)\n",
    "print(binomial(5,2))\n",
    "print(binomial(20,10))"
   ]
  },
  {
   "cell_type": "code",
   "execution_count": null,
   "metadata": {},
   "outputs": [],
   "source": []
  }
 ],
 "metadata": {
  "file_extension": ".py",
  "kernelspec": {
   "display_name": "Python 3",
   "language": "python",
   "name": "python3"
  },
  "language_info": {
   "codemirror_mode": {
    "name": "ipython",
    "version": 3
   },
   "file_extension": ".py",
   "mimetype": "text/x-python",
   "name": "python",
   "nbconvert_exporter": "python",
   "pygments_lexer": "ipython3",
   "version": "3.8.3"
  },
  "metadata": {
   "interpreter": {
    "hash": "63fd5069d213b44bf678585dea6b12cceca9941eaf7f819626cde1f2670de90d"
   }
  },
  "mimetype": "text/x-python",
  "name": "python",
  "npconvert_exporter": "python",
  "pygments_lexer": "ipython3",
  "version": 3
 },
 "nbformat": 4,
 "nbformat_minor": 2
}
