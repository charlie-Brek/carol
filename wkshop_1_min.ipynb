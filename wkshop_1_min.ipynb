{
 "cells": [
  {
   "cell_type": "markdown",
   "metadata": {},
   "source": [
    "# Math P1 (Introduction)\n",
    "\n",
    "## Warmup\n",
    "\n",
    "Run the following lines in the cell below:\n",
    "\n",
    "```\n",
    "%matplotlib inline\n",
    "import numpy as np\n",
    "import matplotlib.pyplot as plt\n",
    "import pandas as pd\n",
    "```"
   ]
  },
  {
   "cell_type": "code",
   "execution_count": 7,
   "metadata": {},
   "outputs": [],
   "source": [
    "# imports here\n",
    "%matplotlib inline\n",
    "import numpy as np\n",
    "import matplotlib.pyplot as plt\n",
    "import pandas as pd"
   ]
  },
  {
   "cell_type": "markdown",
   "metadata": {},
   "source": [
    "Warmup 1: Write a one line function using set operations to verify that two given sets have NO elements in common. \n",
    "\n",
    "```\n",
    "common_elements({1, 2, 3}, {2}) -> True\n",
    "common_elements({1, 2, 3}, {'a', 'b', 'c'}) -> False\n",
    "common_elements({1, 2, 3}, {'a', 1, 'hi!'}) -> True\n",
    "```"
   ]
  },
  {
   "cell_type": "code",
   "execution_count": 135,
   "metadata": {},
   "outputs": [
    {
     "name": "stdout",
     "output_type": "stream",
     "text": [
      "False\n",
      "False\n"
     ]
    }
   ],
   "source": [
    "# warmup 1   -------------- my code shows \"True\" if sets have no elements in common. \n",
    "def f(x,y): \n",
    "    return x.isdisjoint(y)\n",
    "print(f({1,2,3},{2}))  \n",
    "print(f({1,2,3}, {2,3,4}))\n",
    "#continue la,ter..."
   ]
  },
  {
   "cell_type": "code",
   "execution_count": null,
   "metadata": {},
   "outputs": [],
   "source": []
  },
  {
   "cell_type": "markdown",
   "metadata": {},
   "source": [
    "## Exercise 1\n",
    "\n",
    "The following block ouputs a uniformly spaced sequence of numbers using the `linspace` function.\n",
    "\n",
    "```\n",
    "X = np.linspace(0,5,6)\n",
    "print (X)\n",
    "```\n",
    "\n",
    "The linspace function takes in 3 inputs or arguments.\n",
    "\n",
    "- The first input is the lower limit\n",
    "- The second is the upper limit\n",
    "- The third is the number of points you would like in between the chosen limits.\n",
    "\n",
    "Use the `linspace` function to generate 21 data points between `-10` and `10` and store the result as `A`."
   ]
  },
  {
   "cell_type": "code",
   "execution_count": 9,
   "metadata": {},
   "outputs": [
    {
     "name": "stdout",
     "output_type": "stream",
     "text": [
      "[-10.  -9.  -8.  -7.  -6.  -5.  -4.  -3.  -2.  -1.   0.   1.   2.   3.\n",
      "   4.   5.   6.   7.   8.   9.  10.]\n"
     ]
    }
   ],
   "source": [
    "# exercise 1\n",
    "A = np.linspace(-10,10,21)\n",
    "print (A)"
   ]
  },
  {
   "cell_type": "markdown",
   "metadata": {},
   "source": [
    "You will be working with calculus in the following exercises.\n",
    "\n",
    "In the cell below, write the function for fprime(x) that you learned in the pre-lecture."
   ]
  },
  {
   "cell_type": "code",
   "execution_count": 10,
   "metadata": {},
   "outputs": [],
   "source": [
    "# function for fprime(x)\n",
    "def fprime(x):\n",
    "    h = 1e-5\n",
    "    return (f(x+h) - f(x))/h"
   ]
  },
  {
   "cell_type": "markdown",
   "metadata": {},
   "source": [
    "## Exercise 2: 💪🏽 Calculus / Derivative 💪🏽\n",
    "\n",
    "Rewrite the following math functions in python. For each function, \n",
    "\n",
    "- run `f(A)`\n",
    "- run `fprime(A)`\n",
    "- determine the value of A that gives the maximum/minimum value.\n",
    "\n",
    "_To determine the value of A that brings the derivative to zero (or close to it), use a loop._\n",
    "\n",
    "Your answers should have the following form:\n",
    "\n",
    "```\n",
    "def f(x):\n",
    "    return ...\n",
    "\n",
    "print(f(A))\n",
    "print(fprime(A))\n",
    "\n",
    "for i in range(fprime(A)):\n",
    "  if abs(fprime(A)[i]) < 0.01 and abs(fprime(A)[i])>0:\n",
    "    print(f\"The value in A that gives the max/min value is...(Complete the rest)\")\n",
    "    print(f\"The max/min value in f(A) is ...(Complete the rest)...\")\n",
    "```"
   ]
  },
  {
   "cell_type": "markdown",
   "metadata": {},
   "source": [
    "### Exercise 2.1\n",
    "\n",
    "$$f(x) = -x^{2} - 4x -27$$"
   ]
  },
  {
   "cell_type": "code",
   "execution_count": 11,
   "metadata": {},
   "outputs": [
    {
     "name": "stdout",
     "output_type": "stream",
     "text": [
      "[ -87.  -72.  -59.  -48.  -39.  -32.  -27.  -24.  -23.  -24.  -27.  -32.\n",
      "  -39.  -48.  -59.  -72.  -87. -104. -123. -144. -167.]\n",
      "[ 15.99999  13.99999  11.99999   9.99999   7.99999   5.99999   3.99999\n",
      "   1.99999  -0.00001  -2.00001  -4.00001  -6.00001  -8.00001 -10.00001\n",
      " -12.00001 -14.00001 -16.00001 -18.00001 -20.00001 -22.00001 -24.00001]\n",
      "the value in A that gives the max/min value is -2.0: 1.000017846308765e-05\n",
      "The max/min value in f(A)is -23.0\n"
     ]
    }
   ],
   "source": [
    "# exercise 2.1\n",
    "import numpy as np\n",
    "np.set_printoptions(suppress=True)\n",
    "def f(x):\n",
    "    return -x**2 -4*x -27\n",
    "\n",
    "def fprime(x):\n",
    "    h = 1e-5\n",
    "    return (f(x+h)- f(x))/h\n",
    "print(f(A))\n",
    "print(fprime(A))\n",
    "\n",
    "\n",
    "for i in range(len(fprime(A))):\n",
    "    if abs(fprime(A)[i]) < 1 and abs(fprime(A)[i])>0:\n",
    "        print(f\"the value in A that gives the max/min value is {A[i]}:\", abs(fprime(A)[i]))\n",
    "        print(f\"The max/min value in f(A)is {f(A)[i]}\")"
   ]
  },
  {
   "cell_type": "markdown",
   "metadata": {},
   "source": [
    "### Exercise 2.2\n",
    "\n",
    "$$f(x) = x^{2} - 6x + 17$$"
   ]
  },
  {
   "cell_type": "code",
   "execution_count": 12,
   "metadata": {},
   "outputs": [
    {
     "name": "stdout",
     "output_type": "stream",
     "text": [
      "[177. 152. 129. 108.  89.  72.  57.  44.  33.  24.  17.  12.   9.   8.\n",
      "   9.  12.  17.  24.  33.  44.  57.]\n",
      "[-25.99999 -23.99999 -21.99999 -19.99999 -17.99999 -15.99999 -13.99999\n",
      " -11.99999  -9.99999  -7.99999  -5.99999  -3.99999  -1.99999   0.00001\n",
      "   2.00001   4.00001   6.00001   8.00001  10.00001  12.00001  14.00001]\n",
      "the value in A that gives the max/min value is 3.0: 9.99982319171977e-06\n",
      "The max/min value in f(A)is 8.0\n"
     ]
    }
   ],
   "source": [
    "# exercise 2.2\n",
    "import numpy as np\n",
    "np.set_printoptions(suppress=True)\n",
    "def f(x):\n",
    "    return x**2 -6*x +17\n",
    "\n",
    "def fprime(x):\n",
    "    h = 1e-5\n",
    "    return (f(x+h)- f(x))/h\n",
    "print(f(A))\n",
    "print(fprime(A))\n",
    "\n",
    "for i in range(len(fprime(A))):\n",
    "    if abs(fprime(A)[i]) < 1 and abs(fprime(A)[i])>0:\n",
    "        print(f\"the value in A that gives the max/min value is {A[i]}:\", abs(fprime(A)[i]))\n",
    "        print(f\"The max/min value in f(A)is {f(A)[i]}\")"
   ]
  },
  {
   "cell_type": "markdown",
   "metadata": {},
   "source": [
    "### Exercise 2.3\n",
    "\n",
    "$$f(x) = x^{4} - 12x^{3} + 54x^{2}-108x + 81$$"
   ]
  },
  {
   "cell_type": "code",
   "execution_count": 13,
   "metadata": {},
   "outputs": [
    {
     "name": "stdout",
     "output_type": "stream",
     "text": [
      "[28561. 20736. 14641. 10000.  6561.  4096.  2401.  1296.   625.   256.\n",
      "    81.    16.     1.     0.     1.    16.    81.   256.   625.  1296.\n",
      "  2401.]\n",
      "[-8787.98985941 -6911.99135981 -5323.9927398  -3999.99399979\n",
      " -2915.99513985 -2047.99615994 -1371.99706001  -863.99784002\n",
      "  -499.9985      -255.99904     -107.99946      -31.99976\n",
      "    -3.99994       -0.00000001     4.00005999    32.00023999\n",
      "   108.00053999   256.00095996   500.00149986   864.00215987\n",
      "  1372.00294002]\n",
      "the value in A that gives the max/min value is 3.0: 5.684341886080801e-09\n",
      "The max/min value in f(A)is 0.0\n"
     ]
    }
   ],
   "source": [
    "# exercise 2.3\n",
    "import numpy as np\n",
    "np.set_printoptions(suppress=True)\n",
    "def f(x):\n",
    "    return x**4 - 12*x**3 + 54*x**2 - 108*x + 81\n",
    "\n",
    "def fprime(x):\n",
    "    h = 1e-5\n",
    "    return (f(x+h)- f(x))/h\n",
    "print(f(A))\n",
    "print(fprime(A))\n",
    "\n",
    "for i in range(len(fprime(A))):\n",
    "    if abs(fprime(A)[i]) < 1 and abs(fprime(A)[i])>0:\n",
    "        print(f\"the value in A that gives the max/min value is {A[i]}:\", abs(fprime(A)[i]))\n",
    "        print(f\"The max/min value in f(A)is {f(A)[i]}\")"
   ]
  },
  {
   "cell_type": "markdown",
   "metadata": {},
   "source": [
    "## Exercise 3 💪🏽 Calculus / Integration 💪🏽\n",
    "\n",
    "Here is a function that can integrate other functions from points a to b using Riemann's Sum."
   ]
  },
  {
   "cell_type": "code",
   "execution_count": 17,
   "metadata": {},
   "outputs": [],
   "source": [
    "def Integrate(a,b):\n",
    "    n = 1000\n",
    "    dx = (b-a)/n\n",
    "    xi = a\n",
    "    sum_ = 0;\n",
    "    for i in range(n):\n",
    "        xi = xi+dx\n",
    "        sum_ = sum_ + f(xi)\n",
    "    print(sum_*dx)"
   ]
  },
  {
   "cell_type": "markdown",
   "metadata": {},
   "source": [
    "Rewrite the following functions in Python, and then integrate each function over the interval `(0,1)`.\n",
    "\n",
    "Hint: Answers should be written like so:\n",
    "\n",
    "```\n",
    "def f(x):\n",
    "    return ...\n",
    "\n",
    "Integrate(0,1)\n",
    "```"
   ]
  },
  {
   "cell_type": "markdown",
   "metadata": {},
   "source": [
    "### Exercise 3.1\n",
    "\n",
    "$$ f(x) = 2x $$"
   ]
  },
  {
   "cell_type": "code",
   "execution_count": 18,
   "metadata": {},
   "outputs": [
    {
     "name": "stdout",
     "output_type": "stream",
     "text": [
      "1.0010000000000008\n"
     ]
    }
   ],
   "source": [
    "# exercise 3.1\n",
    "def f(x):\n",
    "    return 2*x\n",
    "Integrate(0,1)"
   ]
  },
  {
   "cell_type": "markdown",
   "metadata": {},
   "source": [
    "### Exercise 3.2\n",
    "\n",
    "$$ f(x) = 5x^2 - 3x$$"
   ]
  },
  {
   "cell_type": "code",
   "execution_count": 21,
   "metadata": {},
   "outputs": [
    {
     "name": "stdout",
     "output_type": "stream",
     "text": [
      "0.16766750000000116\n"
     ]
    }
   ],
   "source": [
    "# exercise 3.2\n",
    "def f(X):\n",
    "    return 5*X**2 - 3*X\n",
    "Integrate(0,1)"
   ]
  },
  {
   "cell_type": "markdown",
   "metadata": {},
   "source": [
    "### Exercise 3.3\n",
    "\n",
    "$$ f(x) = 9x^3 - 2x^2$$"
   ]
  },
  {
   "cell_type": "code",
   "execution_count": 23,
   "metadata": {},
   "outputs": [
    {
     "name": "stdout",
     "output_type": "stream",
     "text": [
      "1.5868352500000045\n"
     ]
    }
   ],
   "source": [
    "# exercise 3.3\n",
    "def f(B):\n",
    "    return 9*B**3 - 2*B**2\n",
    "Integrate(0,1)"
   ]
  },
  {
   "cell_type": "markdown",
   "metadata": {},
   "source": [
    "## Exercise 4: Linear Algebra\n",
    "\n",
    "Write each of the following systems of equations as a matrix and solve them using the numpy function from the lecture/pre-lecture.\n",
    "\n",
    "HINT:\n",
    "\n",
    "To solve the system for `a`, `b`, and `c`:\n",
    "\n",
    "$$\\begin{bmatrix} 2 & 1 & 2 \\\\ 1 & 5 & 3 \\\\ 4 & 1 & 2 \\end{bmatrix} \\begin{bmatrix} a \\\\ b \\\\ c \\end{bmatrix} = \\begin {bmatrix} 20\\\\ 38\\\\ 26 \\end{bmatrix} $$\n",
    "\n",
    "```\n",
    "Matrix = np.array([[2,1,2], [1,5,3], [4,1,2]])\n",
    "Solutions = np.array([20, 38, 26])\n",
    "x = np.linalg.solve(Matrix, Solutions)\n",
    "x\n",
    "```"
   ]
  },
  {
   "cell_type": "markdown",
   "metadata": {},
   "source": [
    "### Exercise 4.1\n",
    "\n",
    "$$3x + 2y + z = 7$$\n",
    "$$4x + 5y + 2z = 14$$\n",
    "$$2x + 4y + 3z = 10$$\n"
   ]
  },
  {
   "cell_type": "code",
   "execution_count": 29,
   "metadata": {},
   "outputs": [
    {
     "data": {
      "text/plain": [
       "array([1., 2., 0.])"
      ]
     },
     "execution_count": 29,
     "metadata": {},
     "output_type": "execute_result"
    }
   ],
   "source": [
    "# exercise 4.1\n",
    "import numpy as np\n",
    "Matrix = np.array([[3,2,1], [4,5,2], [2,4,3]])\n",
    "Solutions = np.array([7, 14, 10])\n",
    "x = np.linalg.solve(Matrix,Solutions)\n",
    "x"
   ]
  },
  {
   "cell_type": "markdown",
   "metadata": {},
   "source": [
    "### Exercise 4.2\n",
    "\n",
    "$$3a + 3b + c = 16$$\n",
    "$$2a + b + 3c = 11$$\n",
    "$$4a + 2b + 5c = 21$$"
   ]
  },
  {
   "cell_type": "code",
   "execution_count": 43,
   "metadata": {},
   "outputs": [
    {
     "data": {
      "text/plain": [
       "array([3., 2., 1.])"
      ]
     },
     "execution_count": 43,
     "metadata": {},
     "output_type": "execute_result"
    }
   ],
   "source": [
    "# exercise 4.2\n",
    "import numpy as np\n",
    "Matrix = np.array([[3,3,1],[2,1,3],[4,2,5]])\n",
    "Solutions = np.array([16, 11, 21])\n",
    "x = np.linalg.solve(Matrix,Solutions)\n",
    "x"
   ]
  },
  {
   "cell_type": "markdown",
   "metadata": {},
   "source": [
    "### Exercise 4.3\n",
    "\n",
    "$$4i + 2j + k = 0$$\n",
    "$$5i + j + 3k = 2$$\n",
    "$$3i + 3j + 4k = 8$$"
   ]
  },
  {
   "cell_type": "code",
   "execution_count": 44,
   "metadata": {},
   "outputs": [
    {
     "data": {
      "text/plain": [
       "array([-1.,  1.,  2.])"
      ]
     },
     "execution_count": 44,
     "metadata": {},
     "output_type": "execute_result"
    }
   ],
   "source": [
    "# exercise 4.3\n",
    "import numpy as np\n",
    "Matrix = np.array([[4,2,1], [5,1,3], [3,3,4]])\n",
    "Solutions = np.array([0,2,8])\n",
    "x = np.linalg.solve(Matrix,Solutions)\n",
    "x"
   ]
  },
  {
   "cell_type": "markdown",
   "metadata": {},
   "source": [
    "## Exercise 5: Is it Prime?\n",
    "\n",
    "A [prime number](https://en.wikipedia.org/wiki/Prime_number) is a number that can only be divided by 1 and by itself. \n",
    "\n",
    "Write a function that takes in a positive integer and returns `True` if it's prime and `False` otherwise.\n",
    "\n",
    "```\n",
    "check_prime(5) -> True\n",
    "check_prime(13) -> True\n",
    "check_prime(9) -> False\n",
    "check_prime(15) -> False\n",
    "```"
   ]
  },
  {
   "cell_type": "code",
   "execution_count": 76,
   "metadata": {},
   "outputs": [
    {
     "name": "stdout",
     "output_type": "stream",
     "text": [
      "(3, 'True')\n",
      "(9, 'False')\n",
      "(13, 'True')\n",
      "(23, 'True')\n",
      "(1, 'False')\n"
     ]
    }
   ],
   "source": [
    "# exercise 5\n",
    "def prime(x):\n",
    "    if x > 1:\n",
    "        for i in range(2,x):\n",
    "            if (x%i) == 0:\n",
    "                return x, \"False\"\n",
    "                break\n",
    "        else:\n",
    "            return x, \"True\"\n",
    "    if x == 1:\n",
    "        return x, \"False\"\n",
    "print(prime(3))\n",
    "print(prime(9))\n",
    "print(prime(13))\n",
    "print(prime(23))\n",
    "print(prime(1))"
   ]
  },
  {
   "cell_type": "code",
   "execution_count": null,
   "metadata": {},
   "outputs": [],
   "source": []
  }
 ],
 "metadata": {
  "kernelspec": {
   "display_name": "Python 3",
   "language": "python",
   "name": "python3"
  },
  "language_info": {
   "codemirror_mode": {
    "name": "ipython",
    "version": 3
   },
   "file_extension": ".py",
   "mimetype": "text/x-python",
   "name": "python",
   "nbconvert_exporter": "python",
   "pygments_lexer": "ipython3",
   "version": "3.8.3"
  },
  "metadata": {
   "interpreter": {
    "hash": "63fd5069d213b44bf678585dea6b12cceca9941eaf7f819626cde1f2670de90d"
   }
  }
 },
 "nbformat": 4,
 "nbformat_minor": 2
}
